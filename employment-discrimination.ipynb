{
 "cells": [
  {
   "cell_type": "code",
   "execution_count": 4,
   "metadata": {
    "scrolled": false
   },
   "outputs": [],
   "source": [
    "from functools import reduce\n",
    "import json\n",
    "import numpy as np\n",
    "import pandas as pd\n",
    "\n",
    "pd.set_option(\"display.max_columns\", 50)\n",
    "pd.set_option(\"display.max_rows\", 100)\n",
    "pd.options.display.float_format = \"{:,.2f}\".format"
   ]
  },
  {
   "cell_type": "markdown",
   "metadata": {},
   "source": [
    "## Import and format the data"
   ]
  },
  {
   "cell_type": "markdown",
   "metadata": {},
   "source": [
    "Concatenate the data into a single file."
   ]
  },
  {
   "cell_type": "code",
   "execution_count": 5,
   "metadata": {},
   "outputs": [
    {
     "name": "stdout",
     "output_type": "stream",
     "text": [
      "process_eeoc.sh: 3: process_eeoc.sh: cannot create data/raw/charges_11_17.txt: Directory nonexistent\r\n",
      "process_eeoc.sh: 4: process_eeoc.sh: cannot create data/raw/charges_11_17.txt: Directory nonexistent\r\n",
      "process_eeoc.sh: 5: process_eeoc.sh: cannot create data/raw/charges_11_17.txt: Directory nonexistent\r\n",
      "process_eeoc.sh: 6: process_eeoc.sh: cannot create data/raw/charges_11_17.txt: Directory nonexistent\r\n",
      "process_eeoc.sh: 7: process_eeoc.sh: cannot create data/raw/charges_11_17.txt: Directory nonexistent\r\n",
      "process_eeoc.sh: 8: process_eeoc.sh: cannot create data/raw/charges_11_17.txt: Directory nonexistent\r\n",
      "process_eeoc.sh: 9: process_eeoc.sh: cannot create data/raw/charges_11_17.txt: Directory nonexistent\r\n",
      "process_eeoc.sh: 10: process_eeoc.sh: cannot create data/raw/charges_11_17.txt: Directory nonexistent\r\n"
     ]
    }
   ],
   "source": [
    "!sh process_eeoc.sh"
   ]
  },
  {
   "cell_type": "markdown",
   "metadata": {},
   "source": [
    "Import charge data for fiscal years 2011-2017."
   ]
  },
  {
   "cell_type": "code",
   "execution_count": 12,
   "metadata": {},
   "outputs": [
    {
     "ename": "FileNotFoundError",
     "evalue": "[Errno 2] File b'data/raw/charges_11_17.txt' does not exist: b'data/raw/charges_11_17.txt'",
     "output_type": "error",
     "traceback": [
      "\u001b[0;31m---------------------------------------------------------------------------\u001b[0m",
      "\u001b[0;31mFileNotFoundError\u001b[0m                         Traceback (most recent call last)",
      "\u001b[0;32m<ipython-input-12-2cda4ee70352>\u001b[0m in \u001b[0;36m<module>\u001b[0;34m\u001b[0m\n\u001b[1;32m      7\u001b[0m                              \u001b[0;34m\"statute\"\u001b[0m\u001b[0;34m,\u001b[0m \u001b[0;34m\"basis_code\"\u001b[0m\u001b[0;34m,\u001b[0m \u001b[0;34m\"basis\"\u001b[0m\u001b[0;34m,\u001b[0m \u001b[0;34m\"issue_code\"\u001b[0m\u001b[0;34m,\u001b[0m \u001b[0;34m\"issue\"\u001b[0m\u001b[0;34m,\u001b[0m\u001b[0;34m\u001b[0m\u001b[0;34m\u001b[0m\u001b[0m\n\u001b[1;32m      8\u001b[0m                              \u001b[0;34m\"court_filing_date\"\u001b[0m\u001b[0;34m,\u001b[0m \u001b[0;34m\"civil_action_num\"\u001b[0m\u001b[0;34m,\u001b[0m \u001b[0;34m\"court\"\u001b[0m\u001b[0;34m,\u001b[0m \u001b[0;34m\"resolution_date\"\u001b[0m\u001b[0;34m,\u001b[0m\u001b[0;34m\u001b[0m\u001b[0;34m\u001b[0m\u001b[0m\n\u001b[0;32m----> 9\u001b[0;31m                              \"case_type\", \"litigation_monetary_benefits\"])\n\u001b[0m\u001b[1;32m     10\u001b[0m \u001b[0mcharges\u001b[0m\u001b[0;34m.\u001b[0m\u001b[0minfo\u001b[0m\u001b[0;34m(\u001b[0m\u001b[0;34m)\u001b[0m\u001b[0;34m\u001b[0m\u001b[0;34m\u001b[0m\u001b[0m\n",
      "\u001b[0;32m/opt/conda/lib/python3.7/site-packages/pandas/io/parsers.py\u001b[0m in \u001b[0;36mparser_f\u001b[0;34m(filepath_or_buffer, sep, delimiter, header, names, index_col, usecols, squeeze, prefix, mangle_dupe_cols, dtype, engine, converters, true_values, false_values, skipinitialspace, skiprows, skipfooter, nrows, na_values, keep_default_na, na_filter, verbose, skip_blank_lines, parse_dates, infer_datetime_format, keep_date_col, date_parser, dayfirst, iterator, chunksize, compression, thousands, decimal, lineterminator, quotechar, quoting, doublequote, escapechar, comment, encoding, dialect, tupleize_cols, error_bad_lines, warn_bad_lines, delim_whitespace, low_memory, memory_map, float_precision)\u001b[0m\n\u001b[1;32m    700\u001b[0m                     skip_blank_lines=skip_blank_lines)\n\u001b[1;32m    701\u001b[0m \u001b[0;34m\u001b[0m\u001b[0m\n\u001b[0;32m--> 702\u001b[0;31m         \u001b[0;32mreturn\u001b[0m \u001b[0m_read\u001b[0m\u001b[0;34m(\u001b[0m\u001b[0mfilepath_or_buffer\u001b[0m\u001b[0;34m,\u001b[0m \u001b[0mkwds\u001b[0m\u001b[0;34m)\u001b[0m\u001b[0;34m\u001b[0m\u001b[0;34m\u001b[0m\u001b[0m\n\u001b[0m\u001b[1;32m    703\u001b[0m \u001b[0;34m\u001b[0m\u001b[0m\n\u001b[1;32m    704\u001b[0m     \u001b[0mparser_f\u001b[0m\u001b[0;34m.\u001b[0m\u001b[0m__name__\u001b[0m \u001b[0;34m=\u001b[0m \u001b[0mname\u001b[0m\u001b[0;34m\u001b[0m\u001b[0;34m\u001b[0m\u001b[0m\n",
      "\u001b[0;32m/opt/conda/lib/python3.7/site-packages/pandas/io/parsers.py\u001b[0m in \u001b[0;36m_read\u001b[0;34m(filepath_or_buffer, kwds)\u001b[0m\n\u001b[1;32m    427\u001b[0m \u001b[0;34m\u001b[0m\u001b[0m\n\u001b[1;32m    428\u001b[0m     \u001b[0;31m# Create the parser.\u001b[0m\u001b[0;34m\u001b[0m\u001b[0;34m\u001b[0m\u001b[0;34m\u001b[0m\u001b[0m\n\u001b[0;32m--> 429\u001b[0;31m     \u001b[0mparser\u001b[0m \u001b[0;34m=\u001b[0m \u001b[0mTextFileReader\u001b[0m\u001b[0;34m(\u001b[0m\u001b[0mfilepath_or_buffer\u001b[0m\u001b[0;34m,\u001b[0m \u001b[0;34m**\u001b[0m\u001b[0mkwds\u001b[0m\u001b[0;34m)\u001b[0m\u001b[0;34m\u001b[0m\u001b[0;34m\u001b[0m\u001b[0m\n\u001b[0m\u001b[1;32m    430\u001b[0m \u001b[0;34m\u001b[0m\u001b[0m\n\u001b[1;32m    431\u001b[0m     \u001b[0;32mif\u001b[0m \u001b[0mchunksize\u001b[0m \u001b[0;32mor\u001b[0m \u001b[0miterator\u001b[0m\u001b[0;34m:\u001b[0m\u001b[0;34m\u001b[0m\u001b[0;34m\u001b[0m\u001b[0m\n",
      "\u001b[0;32m/opt/conda/lib/python3.7/site-packages/pandas/io/parsers.py\u001b[0m in \u001b[0;36m__init__\u001b[0;34m(self, f, engine, **kwds)\u001b[0m\n\u001b[1;32m    893\u001b[0m             \u001b[0mself\u001b[0m\u001b[0;34m.\u001b[0m\u001b[0moptions\u001b[0m\u001b[0;34m[\u001b[0m\u001b[0;34m'has_index_names'\u001b[0m\u001b[0;34m]\u001b[0m \u001b[0;34m=\u001b[0m \u001b[0mkwds\u001b[0m\u001b[0;34m[\u001b[0m\u001b[0;34m'has_index_names'\u001b[0m\u001b[0;34m]\u001b[0m\u001b[0;34m\u001b[0m\u001b[0;34m\u001b[0m\u001b[0m\n\u001b[1;32m    894\u001b[0m \u001b[0;34m\u001b[0m\u001b[0m\n\u001b[0;32m--> 895\u001b[0;31m         \u001b[0mself\u001b[0m\u001b[0;34m.\u001b[0m\u001b[0m_make_engine\u001b[0m\u001b[0;34m(\u001b[0m\u001b[0mself\u001b[0m\u001b[0;34m.\u001b[0m\u001b[0mengine\u001b[0m\u001b[0;34m)\u001b[0m\u001b[0;34m\u001b[0m\u001b[0;34m\u001b[0m\u001b[0m\n\u001b[0m\u001b[1;32m    896\u001b[0m \u001b[0;34m\u001b[0m\u001b[0m\n\u001b[1;32m    897\u001b[0m     \u001b[0;32mdef\u001b[0m \u001b[0mclose\u001b[0m\u001b[0;34m(\u001b[0m\u001b[0mself\u001b[0m\u001b[0;34m)\u001b[0m\u001b[0;34m:\u001b[0m\u001b[0;34m\u001b[0m\u001b[0;34m\u001b[0m\u001b[0m\n",
      "\u001b[0;32m/opt/conda/lib/python3.7/site-packages/pandas/io/parsers.py\u001b[0m in \u001b[0;36m_make_engine\u001b[0;34m(self, engine)\u001b[0m\n\u001b[1;32m   1120\u001b[0m     \u001b[0;32mdef\u001b[0m \u001b[0m_make_engine\u001b[0m\u001b[0;34m(\u001b[0m\u001b[0mself\u001b[0m\u001b[0;34m,\u001b[0m \u001b[0mengine\u001b[0m\u001b[0;34m=\u001b[0m\u001b[0;34m'c'\u001b[0m\u001b[0;34m)\u001b[0m\u001b[0;34m:\u001b[0m\u001b[0;34m\u001b[0m\u001b[0;34m\u001b[0m\u001b[0m\n\u001b[1;32m   1121\u001b[0m         \u001b[0;32mif\u001b[0m \u001b[0mengine\u001b[0m \u001b[0;34m==\u001b[0m \u001b[0;34m'c'\u001b[0m\u001b[0;34m:\u001b[0m\u001b[0;34m\u001b[0m\u001b[0;34m\u001b[0m\u001b[0m\n\u001b[0;32m-> 1122\u001b[0;31m             \u001b[0mself\u001b[0m\u001b[0;34m.\u001b[0m\u001b[0m_engine\u001b[0m \u001b[0;34m=\u001b[0m \u001b[0mCParserWrapper\u001b[0m\u001b[0;34m(\u001b[0m\u001b[0mself\u001b[0m\u001b[0;34m.\u001b[0m\u001b[0mf\u001b[0m\u001b[0;34m,\u001b[0m \u001b[0;34m**\u001b[0m\u001b[0mself\u001b[0m\u001b[0;34m.\u001b[0m\u001b[0moptions\u001b[0m\u001b[0;34m)\u001b[0m\u001b[0;34m\u001b[0m\u001b[0;34m\u001b[0m\u001b[0m\n\u001b[0m\u001b[1;32m   1123\u001b[0m         \u001b[0;32melse\u001b[0m\u001b[0;34m:\u001b[0m\u001b[0;34m\u001b[0m\u001b[0;34m\u001b[0m\u001b[0m\n\u001b[1;32m   1124\u001b[0m             \u001b[0;32mif\u001b[0m \u001b[0mengine\u001b[0m \u001b[0;34m==\u001b[0m \u001b[0;34m'python'\u001b[0m\u001b[0;34m:\u001b[0m\u001b[0;34m\u001b[0m\u001b[0;34m\u001b[0m\u001b[0m\n",
      "\u001b[0;32m/opt/conda/lib/python3.7/site-packages/pandas/io/parsers.py\u001b[0m in \u001b[0;36m__init__\u001b[0;34m(self, src, **kwds)\u001b[0m\n\u001b[1;32m   1851\u001b[0m         \u001b[0mkwds\u001b[0m\u001b[0;34m[\u001b[0m\u001b[0;34m'usecols'\u001b[0m\u001b[0;34m]\u001b[0m \u001b[0;34m=\u001b[0m \u001b[0mself\u001b[0m\u001b[0;34m.\u001b[0m\u001b[0musecols\u001b[0m\u001b[0;34m\u001b[0m\u001b[0;34m\u001b[0m\u001b[0m\n\u001b[1;32m   1852\u001b[0m \u001b[0;34m\u001b[0m\u001b[0m\n\u001b[0;32m-> 1853\u001b[0;31m         \u001b[0mself\u001b[0m\u001b[0;34m.\u001b[0m\u001b[0m_reader\u001b[0m \u001b[0;34m=\u001b[0m \u001b[0mparsers\u001b[0m\u001b[0;34m.\u001b[0m\u001b[0mTextReader\u001b[0m\u001b[0;34m(\u001b[0m\u001b[0msrc\u001b[0m\u001b[0;34m,\u001b[0m \u001b[0;34m**\u001b[0m\u001b[0mkwds\u001b[0m\u001b[0;34m)\u001b[0m\u001b[0;34m\u001b[0m\u001b[0;34m\u001b[0m\u001b[0m\n\u001b[0m\u001b[1;32m   1854\u001b[0m         \u001b[0mself\u001b[0m\u001b[0;34m.\u001b[0m\u001b[0munnamed_cols\u001b[0m \u001b[0;34m=\u001b[0m \u001b[0mself\u001b[0m\u001b[0;34m.\u001b[0m\u001b[0m_reader\u001b[0m\u001b[0;34m.\u001b[0m\u001b[0munnamed_cols\u001b[0m\u001b[0;34m\u001b[0m\u001b[0;34m\u001b[0m\u001b[0m\n\u001b[1;32m   1855\u001b[0m \u001b[0;34m\u001b[0m\u001b[0m\n",
      "\u001b[0;32mpandas/_libs/parsers.pyx\u001b[0m in \u001b[0;36mpandas._libs.parsers.TextReader.__cinit__\u001b[0;34m()\u001b[0m\n",
      "\u001b[0;32mpandas/_libs/parsers.pyx\u001b[0m in \u001b[0;36mpandas._libs.parsers.TextReader._setup_parser_source\u001b[0;34m()\u001b[0m\n",
      "\u001b[0;31mFileNotFoundError\u001b[0m: [Errno 2] File b'data/raw/charges_11_17.txt' does not exist: b'data/raw/charges_11_17.txt'"
     ]
    }
   ],
   "source": [
    "charges = pd.read_csv(\"data/raw/charges_11_17.txt\", sep=\"\\t\", skiprows=1,\n",
    "                      dtype={1: str},\n",
    "                      names=[\"fiscal_year\", \"charge_num\", \"state\", \"num_employees_code\",\n",
    "                             \"num_employees\", \"naics_code\", \"naics_desc\", \"type_code\",\n",
    "                             \"type\", \"birth_date\", \"sex\", \"date_received\", \"date_closed\",\n",
    "                             \"closure_code\", \"closure_action\", \"monetary_benefits\", \"statute_code\",\n",
    "                             \"statute\", \"basis_code\", \"basis\", \"issue_code\", \"issue\",\n",
    "                             \"court_filing_date\", \"civil_action_num\", \"court\", \"resolution_date\",\n",
    "                             \"case_type\", \"litigation_monetary_benefits\"])\n",
    "charges.info()"
   ]
  },
  {
   "cell_type": "markdown",
   "metadata": {},
   "source": [
    "Convert the date columns."
   ]
  },
  {
   "cell_type": "code",
   "execution_count": 13,
   "metadata": {},
   "outputs": [
    {
     "ename": "NameError",
     "evalue": "name 'charges' is not defined",
     "output_type": "error",
     "traceback": [
      "\u001b[0;31m---------------------------------------------------------------------------\u001b[0m",
      "\u001b[0;31mNameError\u001b[0m                                 Traceback (most recent call last)",
      "\u001b[0;32m<ipython-input-13-5ab350756f54>\u001b[0m in \u001b[0;36m<module>\u001b[0;34m\u001b[0m\n\u001b[0;32m----> 1\u001b[0;31m \u001b[0mcharges\u001b[0m\u001b[0;34m[\u001b[0m\u001b[0;34m\"birth_date\"\u001b[0m\u001b[0;34m]\u001b[0m \u001b[0;34m=\u001b[0m \u001b[0mpd\u001b[0m\u001b[0;34m.\u001b[0m\u001b[0mto_datetime\u001b[0m\u001b[0;34m(\u001b[0m\u001b[0mcharges\u001b[0m\u001b[0;34m[\u001b[0m\u001b[0;34m\"birth_date\"\u001b[0m\u001b[0;34m]\u001b[0m\u001b[0;34m,\u001b[0m \u001b[0merrors\u001b[0m\u001b[0;34m=\u001b[0m\u001b[0;34m\"coerce\"\u001b[0m\u001b[0;34m,\u001b[0m \u001b[0mformat\u001b[0m\u001b[0;34m=\u001b[0m\u001b[0;34m\"%m/%d/%Y\"\u001b[0m\u001b[0;34m)\u001b[0m\u001b[0;34m\u001b[0m\u001b[0;34m\u001b[0m\u001b[0m\n\u001b[0m\u001b[1;32m      2\u001b[0m \u001b[0mcharges\u001b[0m\u001b[0;34m[\u001b[0m\u001b[0;34m\"date_received\"\u001b[0m\u001b[0;34m]\u001b[0m \u001b[0;34m=\u001b[0m \u001b[0mpd\u001b[0m\u001b[0;34m.\u001b[0m\u001b[0mto_datetime\u001b[0m\u001b[0;34m(\u001b[0m\u001b[0mcharges\u001b[0m\u001b[0;34m[\u001b[0m\u001b[0;34m\"date_received\"\u001b[0m\u001b[0;34m]\u001b[0m\u001b[0;34m,\u001b[0m \u001b[0merrors\u001b[0m\u001b[0;34m=\u001b[0m\u001b[0;34m\"coerce\"\u001b[0m\u001b[0;34m,\u001b[0m \u001b[0mformat\u001b[0m\u001b[0;34m=\u001b[0m\u001b[0;34m\"%m/%d/%Y\"\u001b[0m\u001b[0;34m)\u001b[0m\u001b[0;34m\u001b[0m\u001b[0;34m\u001b[0m\u001b[0m\n\u001b[1;32m      3\u001b[0m \u001b[0mcharges\u001b[0m\u001b[0;34m[\u001b[0m\u001b[0;34m\"date_closed\"\u001b[0m\u001b[0;34m]\u001b[0m \u001b[0;34m=\u001b[0m \u001b[0mpd\u001b[0m\u001b[0;34m.\u001b[0m\u001b[0mto_datetime\u001b[0m\u001b[0;34m(\u001b[0m\u001b[0mcharges\u001b[0m\u001b[0;34m[\u001b[0m\u001b[0;34m\"date_closed\"\u001b[0m\u001b[0;34m]\u001b[0m\u001b[0;34m,\u001b[0m \u001b[0merrors\u001b[0m\u001b[0;34m=\u001b[0m\u001b[0;34m\"coerce\"\u001b[0m\u001b[0;34m,\u001b[0m \u001b[0mformat\u001b[0m\u001b[0;34m=\u001b[0m\u001b[0;34m\"%m/%d/%Y\"\u001b[0m\u001b[0;34m)\u001b[0m\u001b[0;34m\u001b[0m\u001b[0;34m\u001b[0m\u001b[0m\n\u001b[1;32m      4\u001b[0m \u001b[0mcharges\u001b[0m\u001b[0;34m[\u001b[0m\u001b[0;34m\"court_filing_date\"\u001b[0m\u001b[0;34m]\u001b[0m \u001b[0;34m=\u001b[0m \u001b[0mpd\u001b[0m\u001b[0;34m.\u001b[0m\u001b[0mto_datetime\u001b[0m\u001b[0;34m(\u001b[0m\u001b[0mcharges\u001b[0m\u001b[0;34m[\u001b[0m\u001b[0;34m\"court_filing_date\"\u001b[0m\u001b[0;34m]\u001b[0m\u001b[0;34m,\u001b[0m \u001b[0merrors\u001b[0m\u001b[0;34m=\u001b[0m\u001b[0;34m\"coerce\"\u001b[0m\u001b[0;34m,\u001b[0m \u001b[0mformat\u001b[0m\u001b[0;34m=\u001b[0m\u001b[0;34m\"%m/%d/%Y\"\u001b[0m\u001b[0;34m)\u001b[0m\u001b[0;34m\u001b[0m\u001b[0;34m\u001b[0m\u001b[0m\n\u001b[1;32m      5\u001b[0m \u001b[0mcharges\u001b[0m\u001b[0;34m[\u001b[0m\u001b[0;34m\"resolution_date\"\u001b[0m\u001b[0;34m]\u001b[0m \u001b[0;34m=\u001b[0m \u001b[0mpd\u001b[0m\u001b[0;34m.\u001b[0m\u001b[0mto_datetime\u001b[0m\u001b[0;34m(\u001b[0m\u001b[0mcharges\u001b[0m\u001b[0;34m[\u001b[0m\u001b[0;34m\"resolution_date\"\u001b[0m\u001b[0;34m]\u001b[0m\u001b[0;34m,\u001b[0m \u001b[0merrors\u001b[0m\u001b[0;34m=\u001b[0m\u001b[0;34m\"coerce\"\u001b[0m\u001b[0;34m,\u001b[0m \u001b[0mformat\u001b[0m\u001b[0;34m=\u001b[0m\u001b[0;34m\"%m/%d/%Y\"\u001b[0m\u001b[0;34m)\u001b[0m\u001b[0;34m\u001b[0m\u001b[0;34m\u001b[0m\u001b[0m\n",
      "\u001b[0;31mNameError\u001b[0m: name 'charges' is not defined"
     ]
    }
   ],
   "source": [
    "charges[\"birth_date\"] = pd.to_datetime(charges[\"birth_date\"], errors=\"coerce\", format=\"%m/%d/%Y\")\n",
    "charges[\"date_received\"] = pd.to_datetime(charges[\"date_received\"], errors=\"coerce\", format=\"%m/%d/%Y\")\n",
    "charges[\"date_closed\"] = pd.to_datetime(charges[\"date_closed\"], errors=\"coerce\", format=\"%m/%d/%Y\")\n",
    "charges[\"court_filing_date\"] = pd.to_datetime(charges[\"court_filing_date\"], errors=\"coerce\", format=\"%m/%d/%Y\")\n",
    "charges[\"resolution_date\"] = pd.to_datetime(charges[\"resolution_date\"], errors=\"coerce\", format=\"%m/%d/%Y\")\n",
    "charges.info()"
   ]
  },
  {
   "cell_type": "markdown",
   "metadata": {},
   "source": [
    "Import charge data for fiscal year 2010."
   ]
  },
  {
   "cell_type": "code",
   "execution_count": 14,
   "metadata": {},
   "outputs": [
    {
     "name": "stdout",
     "output_type": "stream",
     "text": [
      "<class 'pandas.core.frame.DataFrame'>\n",
      "RangeIndex: 343863 entries, 0 to 343862\n",
      "Data columns (total 28 columns):\n",
      "charge_num                      343863 non-null object\n",
      "state                           343801 non-null object\n",
      "num_employees_code              328035 non-null object\n",
      "num_employees                   328035 non-null object\n",
      "naics_code                      187222 non-null float64\n",
      "naics_desc                      185282 non-null object\n",
      "type_code                       343829 non-null object\n",
      "type                            343829 non-null object\n",
      "birth_date                      310000 non-null object\n",
      "sex                             343453 non-null object\n",
      "date_received                   343863 non-null object\n",
      "date_fepa_sent_to_eeoc          20188 non-null object\n",
      "date_closed                     230050 non-null object\n",
      "closure_code                    230050 non-null object\n",
      "closure_action                  230050 non-null object\n",
      "monetary_benefits               37964 non-null object\n",
      "statute_code                    343863 non-null object\n",
      "statute                         343367 non-null object\n",
      "basis_code                      342598 non-null object\n",
      "basis                           343859 non-null object\n",
      "issue_code                      343863 non-null object\n",
      "issue                           343863 non-null object\n",
      "court_filing_date               366 non-null object\n",
      "civil_action_num                355 non-null object\n",
      "court                           355 non-null object\n",
      "resolution_date                 41 non-null object\n",
      "litigation_monetary_benefits    11 non-null object\n",
      "case_type                       894 non-null object\n",
      "dtypes: float64(1), object(27)\n",
      "memory usage: 73.5+ MB\n"
     ]
    }
   ],
   "source": [
    "charges_10 = pd.read_csv(\"data/complaints_10.txt\", sep=\"\\t\", skiprows=1,\n",
    "                         dtype={0: str},\n",
    "                         names=[\"charge_num\", \"state\", \"num_employees_code\",\n",
    "                                \"num_employees\", \"naics_code\", \"naics_desc\", \"type_code\",\n",
    "                                \"type\", \"birth_date\", \"sex\", \"date_received\", \"date_fepa_sent_to_eeoc\",\n",
    "                                \"date_closed\", \"closure_code\", \"closure_action\", \"monetary_benefits\",\n",
    "                                \"statute_code\", \"statute\", \"basis_code\", \"basis\", \"issue_code\", \"issue\",\n",
    "                                \"court_filing_date\", \"civil_action_num\", \"court\", \"resolution_date\",\n",
    "                                \"litigation_monetary_benefits\", \"case_type\"])\n",
    "charges_10.info()"
   ]
  },
  {
   "cell_type": "markdown",
   "metadata": {},
   "source": [
    "Convert the date columns."
   ]
  },
  {
   "cell_type": "code",
   "execution_count": 15,
   "metadata": {},
   "outputs": [
    {
     "name": "stdout",
     "output_type": "stream",
     "text": [
      "<class 'pandas.core.frame.DataFrame'>\n",
      "RangeIndex: 343863 entries, 0 to 343862\n",
      "Data columns (total 28 columns):\n",
      "charge_num                      343863 non-null object\n",
      "state                           343801 non-null object\n",
      "num_employees_code              328035 non-null object\n",
      "num_employees                   328035 non-null object\n",
      "naics_code                      187222 non-null float64\n",
      "naics_desc                      185282 non-null object\n",
      "type_code                       343829 non-null object\n",
      "type                            343829 non-null object\n",
      "birth_date                      310000 non-null datetime64[ns]\n",
      "sex                             343453 non-null object\n",
      "date_received                   343863 non-null datetime64[ns]\n",
      "date_fepa_sent_to_eeoc          20188 non-null object\n",
      "date_closed                     230050 non-null datetime64[ns]\n",
      "closure_code                    230050 non-null object\n",
      "closure_action                  230050 non-null object\n",
      "monetary_benefits               37964 non-null object\n",
      "statute_code                    343863 non-null object\n",
      "statute                         343367 non-null object\n",
      "basis_code                      342598 non-null object\n",
      "basis                           343859 non-null object\n",
      "issue_code                      343863 non-null object\n",
      "issue                           343863 non-null object\n",
      "court_filing_date               366 non-null datetime64[ns]\n",
      "civil_action_num                355 non-null object\n",
      "court                           355 non-null object\n",
      "resolution_date                 41 non-null datetime64[ns]\n",
      "litigation_monetary_benefits    11 non-null object\n",
      "case_type                       894 non-null object\n",
      "dtypes: datetime64[ns](5), float64(1), object(22)\n",
      "memory usage: 73.5+ MB\n"
     ]
    }
   ],
   "source": [
    "charges_10[\"birth_date\"] = pd.to_datetime(charges_10[\"birth_date\"], errors=\"coerce\", format=\"%m/%d/%y\")\n",
    "charges_10[\"date_received\"] = pd.to_datetime(charges_10[\"date_received\"], errors=\"coerce\", format=\"%m/%d/%y\")\n",
    "charges_10[\"date_closed\"] = pd.to_datetime(charges_10[\"date_closed\"], errors=\"coerce\", format=\"%m/%d/%y\")\n",
    "charges_10[\"court_filing_date\"] = pd.to_datetime(charges_10[\"court_filing_date\"], errors=\"coerce\", format=\"%m/%d/%y\")\n",
    "charges_10[\"resolution_date\"] = pd.to_datetime(charges_10[\"resolution_date\"], errors=\"coerce\", format=\"%m/%d/%y\")\n",
    "charges_10.info()"
   ]
  },
  {
   "cell_type": "markdown",
   "metadata": {},
   "source": [
    "The columns in the 2010 charge data differ from those of the 2011 through 2017 data. We need to delete, add, rename and reorder the columns before concatenating the data."
   ]
  },
  {
   "cell_type": "code",
   "execution_count": 16,
   "metadata": {},
   "outputs": [
    {
     "name": "stdout",
     "output_type": "stream",
     "text": [
      "<class 'pandas.core.frame.DataFrame'>\n",
      "RangeIndex: 343863 entries, 0 to 343862\n",
      "Data columns (total 28 columns):\n",
      "fiscal_year                     343863 non-null object\n",
      "charge_num                      343863 non-null object\n",
      "state                           343801 non-null object\n",
      "num_employees_code              328035 non-null object\n",
      "num_employees                   328035 non-null object\n",
      "naics_code                      187222 non-null float64\n",
      "naics_desc                      185282 non-null object\n",
      "type_code                       343829 non-null object\n",
      "type                            343829 non-null object\n",
      "birth_date                      310000 non-null datetime64[ns]\n",
      "sex                             343453 non-null object\n",
      "date_received                   343863 non-null datetime64[ns]\n",
      "date_closed                     230050 non-null datetime64[ns]\n",
      "closure_code                    230050 non-null object\n",
      "closure_action                  230050 non-null object\n",
      "monetary_benefits               37964 non-null object\n",
      "statute_code                    343863 non-null object\n",
      "statute                         343367 non-null object\n",
      "basis_code                      342598 non-null object\n",
      "basis                           343859 non-null object\n",
      "issue_code                      343863 non-null object\n",
      "issue                           343863 non-null object\n",
      "court_filing_date               366 non-null datetime64[ns]\n",
      "civil_action_num                355 non-null object\n",
      "court                           355 non-null object\n",
      "resolution_date                 41 non-null datetime64[ns]\n",
      "case_type                       894 non-null object\n",
      "litigation_monetary_benefits    11 non-null object\n",
      "dtypes: datetime64[ns](5), float64(1), object(22)\n",
      "memory usage: 73.5+ MB\n"
     ]
    }
   ],
   "source": [
    "charges_10.drop(\"date_fepa_sent_to_eeoc\", axis=1, inplace=True)\n",
    "charges_10[\"fiscal_year\"] = \"FY2010\"\n",
    "charges_10 = charges_10[[\"fiscal_year\", \"charge_num\", \"state\", \"num_employees_code\", \"num_employees\", \"naics_code\", \"naics_desc\", \"type_code\",\n",
    "                         \"type\", \"birth_date\", \"sex\", \"date_received\", \"date_closed\", \"closure_code\", \"closure_action\", \"monetary_benefits\",\n",
    "                         \"statute_code\", \"statute\", \"basis_code\", \"basis\", \"issue_code\", \"issue\", \"court_filing_date\", \"civil_action_num\",\n",
    "                         \"court\", \"resolution_date\", \"case_type\", \"litigation_monetary_benefits\"]]\n",
    "charges_10.info()"
   ]
  },
  {
   "cell_type": "markdown",
   "metadata": {},
   "source": [
    "Concatenate the two sets of charge data."
   ]
  },
  {
   "cell_type": "code",
   "execution_count": 19,
   "metadata": {},
   "outputs": [],
   "source": [
    "# Added by Steve to make this kind of work\n",
    "charges = pd.DataFrame()"
   ]
  },
  {
   "cell_type": "code",
   "execution_count": 20,
   "metadata": {},
   "outputs": [
    {
     "name": "stdout",
     "output_type": "stream",
     "text": [
      "<class 'pandas.core.frame.DataFrame'>\n",
      "RangeIndex: 343863 entries, 0 to 343862\n",
      "Data columns (total 28 columns):\n",
      "fiscal_year                     343863 non-null object\n",
      "charge_num                      343863 non-null object\n",
      "state                           343801 non-null object\n",
      "num_employees_code              328035 non-null object\n",
      "num_employees                   328035 non-null object\n",
      "naics_code                      187222 non-null float64\n",
      "naics_desc                      185282 non-null object\n",
      "type_code                       343829 non-null object\n",
      "type                            343829 non-null object\n",
      "birth_date                      310000 non-null datetime64[ns]\n",
      "sex                             343453 non-null object\n",
      "date_received                   343863 non-null datetime64[ns]\n",
      "date_closed                     230050 non-null datetime64[ns]\n",
      "closure_code                    230050 non-null object\n",
      "closure_action                  230050 non-null object\n",
      "monetary_benefits               37964 non-null object\n",
      "statute_code                    343863 non-null object\n",
      "statute                         343367 non-null object\n",
      "basis_code                      342598 non-null object\n",
      "basis                           343859 non-null object\n",
      "issue_code                      343863 non-null object\n",
      "issue                           343863 non-null object\n",
      "court_filing_date               366 non-null datetime64[ns]\n",
      "civil_action_num                355 non-null object\n",
      "court                           355 non-null object\n",
      "resolution_date                 41 non-null datetime64[ns]\n",
      "case_type                       894 non-null object\n",
      "litigation_monetary_benefits    11 non-null object\n",
      "dtypes: datetime64[ns](5), float64(1), object(22)\n",
      "memory usage: 73.5+ MB\n"
     ]
    }
   ],
   "source": [
    "charges = pd.concat([charges, charges_10], ignore_index=True)\n",
    "charges.info()"
   ]
  },
  {
   "cell_type": "markdown",
   "metadata": {},
   "source": [
    "Convert the columns to their proper data types."
   ]
  },
  {
   "cell_type": "code",
   "execution_count": 21,
   "metadata": {},
   "outputs": [
    {
     "name": "stdout",
     "output_type": "stream",
     "text": [
      "<class 'pandas.core.frame.DataFrame'>\n",
      "RangeIndex: 343863 entries, 0 to 343862\n",
      "Data columns (total 28 columns):\n",
      "fiscal_year                     343863 non-null category\n",
      "charge_num                      343863 non-null object\n",
      "state                           343801 non-null category\n",
      "num_employees_code              328035 non-null category\n",
      "num_employees                   328035 non-null category\n",
      "naics_code                      187222 non-null category\n",
      "naics_desc                      185282 non-null category\n",
      "type_code                       343829 non-null category\n",
      "type                            343829 non-null category\n",
      "birth_date                      310000 non-null datetime64[ns]\n",
      "sex                             343453 non-null category\n",
      "date_received                   343863 non-null datetime64[ns]\n",
      "date_closed                     230050 non-null datetime64[ns]\n",
      "closure_code                    230050 non-null category\n",
      "closure_action                  230050 non-null category\n",
      "monetary_benefits               2674 non-null float32\n",
      "statute_code                    343863 non-null category\n",
      "statute                         343367 non-null category\n",
      "basis_code                      342598 non-null category\n",
      "basis                           343859 non-null category\n",
      "issue_code                      343863 non-null category\n",
      "issue                           343863 non-null category\n",
      "court_filing_date               366 non-null datetime64[ns]\n",
      "civil_action_num                355 non-null object\n",
      "court                           355 non-null category\n",
      "resolution_date                 41 non-null datetime64[ns]\n",
      "case_type                       894 non-null category\n",
      "litigation_monetary_benefits    0 non-null float32\n",
      "dtypes: category(19), datetime64[ns](5), float32(2), object(2)\n",
      "memory usage: 28.0+ MB\n"
     ]
    }
   ],
   "source": [
    "charges = charges.astype(dtype={\"fiscal_year\": \"category\", \"charge_num\": str, \"state\": \"category\",\n",
    "                            \"num_employees_code\": \"category\", \"num_employees\": \"category\",\n",
    "                            \"naics_code\": \"category\", \"naics_desc\": \"category\",\n",
    "                            \"type_code\": \"category\", \"type\": \"category\", \"sex\": \"category\",\n",
    "                            \"closure_code\": \"category\", \"closure_action\": \"category\",\n",
    "                            \"statute_code\": \"category\", \"statute\": \"category\",\n",
    "                            \"basis_code\": \"category\", \"basis\": \"category\", \"issue_code\": \"category\",\n",
    "                            \"issue\": \"category\", \"court\": \"category\", \"case_type\": \"category\"})\n",
    "charges[\"monetary_benefits\"] = pd.to_numeric(charges[\"monetary_benefits\"], errors=\"coerce\", downcast=\"float\")\n",
    "charges[\"litigation_monetary_benefits\"] = pd.to_numeric(charges[\"litigation_monetary_benefits\"], errors=\"coerce\", downcast=\"float\")\n",
    "charges.info()"
   ]
  },
  {
   "cell_type": "markdown",
   "metadata": {},
   "source": [
    "Create a grouped basis column."
   ]
  },
  {
   "cell_type": "markdown",
   "metadata": {},
   "source": [
    "*Added by Steve*: Ok, what I think this is doing is if the basis column contains age, then we'll stick with Age. All the trues get age, now for the falses. If it contains color, then we'll go with color. If it doesn't contain age or color, "
   ]
  },
  {
   "cell_type": "code",
   "execution_count": 22,
   "metadata": {},
   "outputs": [
    {
     "data": {
      "text/plain": [
       "grouped_basis\n",
       "Age                         38553\n",
       "Ancestry/National Origin    23393\n",
       "Color                        6064\n",
       "Disability/Medical          59399\n",
       "Equal Pay                    1523\n",
       "Genetics                      355\n",
       "Other                        2822\n",
       "Race                        66297\n",
       "Religion                     7383\n",
       "Retaliation                 81570\n",
       "Sex                         56504\n",
       "Name: charge_num, dtype: int64"
      ]
     },
     "execution_count": 22,
     "metadata": {},
     "output_type": "execute_result"
    }
   ],
   "source": [
    "charges[\"grouped_basis\"] = np.where(charges[\"basis\"].str.contains(\"age\", case=False), \"Age\",\n",
    "                           np.where(charges[\"basis\"].str.contains(\"color\", case=False), \"Color\",\n",
    "                           np.where(charges[\"basis\"].isin([\"Alcoholism\", \"Allergies\", \"Alzheimers\",\n",
    "                                                         \"Asthma\", \"Autism\", \"Blood (Other)\",\n",
    "                                                         \"Brain/Head Impairment\", \"Brain/Head Injury (Traumatic)\",\n",
    "                                                         \"Cancer\", \"Cerebral Palsy\", \"Chemical Sensitivity\",\n",
    "                                                         \"Cumulative Trauma Disorder\", \"Cystic Fibrosis\",\n",
    "                                                         \"Depression\", \"Diabetes\", \"Disfigurement\",\n",
    "                                                         \"Drug Addiction\", \"Dwarfism\", \"Epilepsy\",\n",
    "                                                         \"Gastrointestinal\", \"HIV\", \"Handicap (Not ADA)\",\n",
    "                                                         \"Hearing Impairment\", \"Heart/Cardiovascular\",\n",
    "                                                         \"Intellectual Disability\", \"Kidney Impairment\",\n",
    "                                                         \"Learning Disability\", \"Manic Depression (Bi-polar)\",\n",
    "                                                         \"Missing Digits/Limbs\", \"Multiple Sclerosis\",\n",
    "                                                         \"Nonparalytic Orthopedic Impairment\",\n",
    "                                                         \"Orthopedic/Structural Back Impairment\",\n",
    "                                                         \"Other Anxiety Disorder\", \"Other Disability\",\n",
    "                                                         \"Other Neurological\", \"Other Psychiatric Disorders\",\n",
    "                                                         \"Other Pulmo/Respiratory\", \"Paralysis\",\n",
    "                                                         \"Post-Traumatic Stress Disorder\", \"Record Of Disability\",\n",
    "                                                         \"Regarded As Disabled\", \"Schizophrenia\",\n",
    "                                                         \"Speech Impairment\", \"Tuberculosis\", \"Vision Impairment\"]), \"Disability/Medical\",\n",
    "                            np.where(charges[\"basis\"].str.contains(\"equal pay\", case=False), \"Equal Pay\",\n",
    "                            np.where(charges[\"basis\"].str.contains(\"genetic\", case=False), \"Genetics\",\n",
    "                            np.where(charges[\"basis\"].str.contains(\"ancestry\", case=False) | charges[\"basis\"].str.contains(\"national origin\", case=False), \"Ancestry/National Origin\",\n",
    "                            np.where(charges[\"basis\"].isin([\"Conviction Record\", \"Marital Status\", \"Other\",\n",
    "                                                            \"Relationship/Assn.\", \"Unassigned\"]), \"Other\",\n",
    "                            np.where(charges[\"basis\"].str.contains(\"race\", case=False), \"Race\",\n",
    "                            np.where(charges[\"basis\"].str.contains(\"retaliation\", case=False), \"Retaliation\",\n",
    "                            np.where(charges[\"basis\"].str.contains(\"religion\", case=False), \"Religion\",\n",
    "                            np.where(charges[\"basis\"].str.contains(\"sex\", case=False), \"Sex\",\n",
    "                                    \"\")))))))))))\n",
    "charges.groupby(\"grouped_basis\")[\"charge_num\"].count()"
   ]
  },
  {
   "cell_type": "code",
   "execution_count": 29,
   "metadata": {},
   "outputs": [
    {
     "data": {
      "text/html": [
       "<div>\n",
       "<style scoped>\n",
       "    .dataframe tbody tr th:only-of-type {\n",
       "        vertical-align: middle;\n",
       "    }\n",
       "\n",
       "    .dataframe tbody tr th {\n",
       "        vertical-align: top;\n",
       "    }\n",
       "\n",
       "    .dataframe thead th {\n",
       "        text-align: right;\n",
       "    }\n",
       "</style>\n",
       "<table border=\"1\" class=\"dataframe\">\n",
       "  <thead>\n",
       "    <tr style=\"text-align: right;\">\n",
       "      <th></th>\n",
       "      <th>fiscal_year</th>\n",
       "      <th>charge_num</th>\n",
       "      <th>state</th>\n",
       "      <th>num_employees_code</th>\n",
       "      <th>num_employees</th>\n",
       "      <th>naics_code</th>\n",
       "      <th>naics_desc</th>\n",
       "      <th>type_code</th>\n",
       "      <th>type</th>\n",
       "      <th>birth_date</th>\n",
       "      <th>sex</th>\n",
       "      <th>date_received</th>\n",
       "      <th>date_closed</th>\n",
       "      <th>closure_code</th>\n",
       "      <th>closure_action</th>\n",
       "      <th>monetary_benefits</th>\n",
       "      <th>statute_code</th>\n",
       "      <th>statute</th>\n",
       "      <th>basis_code</th>\n",
       "      <th>basis</th>\n",
       "      <th>issue_code</th>\n",
       "      <th>issue</th>\n",
       "      <th>court_filing_date</th>\n",
       "      <th>civil_action_num</th>\n",
       "      <th>court</th>\n",
       "      <th>resolution_date</th>\n",
       "      <th>case_type</th>\n",
       "      <th>litigation_monetary_benefits</th>\n",
       "      <th>grouped_basis</th>\n",
       "    </tr>\n",
       "  </thead>\n",
       "  <tbody>\n",
       "    <tr>\n",
       "      <th>0</th>\n",
       "      <td>FY2010</td>\n",
       "      <td>3,288,411.72</td>\n",
       "      <td>MD</td>\n",
       "      <td>B</td>\n",
       "      <td>101 - 200 Employees</td>\n",
       "      <td>611,110.00</td>\n",
       "      <td>Elementary and Secondary Schools</td>\n",
       "      <td>E</td>\n",
       "      <td>Private Employer</td>\n",
       "      <td>2066-11-13</td>\n",
       "      <td>N</td>\n",
       "      <td>2010-03-03</td>\n",
       "      <td>2010-03-03</td>\n",
       "      <td>M3</td>\n",
       "      <td>No Cause Finding Issued</td>\n",
       "      <td>nan</td>\n",
       "      <td>T</td>\n",
       "      <td>Title VII</td>\n",
       "      <td>OR</td>\n",
       "      <td>Retaliation</td>\n",
       "      <td>T2</td>\n",
       "      <td>Terms/Conditions</td>\n",
       "      <td>NaT</td>\n",
       "      <td>NaN</td>\n",
       "      <td>NaN</td>\n",
       "      <td>NaT</td>\n",
       "      <td>NaN</td>\n",
       "      <td>nan</td>\n",
       "      <td>Retaliation</td>\n",
       "    </tr>\n",
       "    <tr>\n",
       "      <th>1</th>\n",
       "      <td>FY2010</td>\n",
       "      <td>3,288,411.72</td>\n",
       "      <td>MD</td>\n",
       "      <td>B</td>\n",
       "      <td>101 - 200 Employees</td>\n",
       "      <td>611,110.00</td>\n",
       "      <td>Elementary and Secondary Schools</td>\n",
       "      <td>E</td>\n",
       "      <td>Private Employer</td>\n",
       "      <td>2066-11-13</td>\n",
       "      <td>N</td>\n",
       "      <td>2010-03-03</td>\n",
       "      <td>2010-03-03</td>\n",
       "      <td>M3</td>\n",
       "      <td>No Cause Finding Issued</td>\n",
       "      <td>nan</td>\n",
       "      <td>A</td>\n",
       "      <td>ADEA</td>\n",
       "      <td>OR</td>\n",
       "      <td>Retaliation</td>\n",
       "      <td>T2</td>\n",
       "      <td>Terms/Conditions</td>\n",
       "      <td>NaT</td>\n",
       "      <td>NaN</td>\n",
       "      <td>NaN</td>\n",
       "      <td>NaT</td>\n",
       "      <td>NaN</td>\n",
       "      <td>nan</td>\n",
       "      <td>Retaliation</td>\n",
       "    </tr>\n",
       "    <tr>\n",
       "      <th>2</th>\n",
       "      <td>FY2010</td>\n",
       "      <td>3,288,411.72</td>\n",
       "      <td>MD</td>\n",
       "      <td>B</td>\n",
       "      <td>101 - 200 Employees</td>\n",
       "      <td>611,110.00</td>\n",
       "      <td>Elementary and Secondary Schools</td>\n",
       "      <td>E</td>\n",
       "      <td>Private Employer</td>\n",
       "      <td>2066-11-13</td>\n",
       "      <td>N</td>\n",
       "      <td>2010-03-03</td>\n",
       "      <td>2010-03-03</td>\n",
       "      <td>M3</td>\n",
       "      <td>No Cause Finding Issued</td>\n",
       "      <td>nan</td>\n",
       "      <td>A</td>\n",
       "      <td>ADEA</td>\n",
       "      <td>OA</td>\n",
       "      <td>Age</td>\n",
       "      <td>T2</td>\n",
       "      <td>Terms/Conditions</td>\n",
       "      <td>NaT</td>\n",
       "      <td>NaN</td>\n",
       "      <td>NaN</td>\n",
       "      <td>NaT</td>\n",
       "      <td>NaN</td>\n",
       "      <td>nan</td>\n",
       "      <td>Age</td>\n",
       "    </tr>\n",
       "    <tr>\n",
       "      <th>3</th>\n",
       "      <td>FY2010</td>\n",
       "      <td>3,593,445.5595</td>\n",
       "      <td>AL</td>\n",
       "      <td>U</td>\n",
       "      <td>Unknown Number Of Employees</td>\n",
       "      <td>nan</td>\n",
       "      <td>NaN</td>\n",
       "      <td>E</td>\n",
       "      <td>Private Employer</td>\n",
       "      <td>1979-05-02</td>\n",
       "      <td>F</td>\n",
       "      <td>2010-02-03</td>\n",
       "      <td>2010-07-30</td>\n",
       "      <td>N2</td>\n",
       "      <td>NRTS Issued At CP Request</td>\n",
       "      <td>nan</td>\n",
       "      <td>T</td>\n",
       "      <td>Title VII</td>\n",
       "      <td>OR</td>\n",
       "      <td>Retaliation</td>\n",
       "      <td>D2</td>\n",
       "      <td>Discharge</td>\n",
       "      <td>NaT</td>\n",
       "      <td>NaN</td>\n",
       "      <td>NaN</td>\n",
       "      <td>NaT</td>\n",
       "      <td>NaN</td>\n",
       "      <td>nan</td>\n",
       "      <td>Retaliation</td>\n",
       "    </tr>\n",
       "    <tr>\n",
       "      <th>4</th>\n",
       "      <td>FY2010</td>\n",
       "      <td>3,593,445.5595</td>\n",
       "      <td>AL</td>\n",
       "      <td>U</td>\n",
       "      <td>Unknown Number Of Employees</td>\n",
       "      <td>nan</td>\n",
       "      <td>NaN</td>\n",
       "      <td>E</td>\n",
       "      <td>Private Employer</td>\n",
       "      <td>1979-05-02</td>\n",
       "      <td>F</td>\n",
       "      <td>2010-02-03</td>\n",
       "      <td>2010-07-30</td>\n",
       "      <td>N2</td>\n",
       "      <td>NRTS Issued At CP Request</td>\n",
       "      <td>nan</td>\n",
       "      <td>T</td>\n",
       "      <td>Title VII</td>\n",
       "      <td>OR</td>\n",
       "      <td>Retaliation</td>\n",
       "      <td>B3</td>\n",
       "      <td>Benefits-Insurance</td>\n",
       "      <td>NaT</td>\n",
       "      <td>NaN</td>\n",
       "      <td>NaN</td>\n",
       "      <td>NaT</td>\n",
       "      <td>NaN</td>\n",
       "      <td>nan</td>\n",
       "      <td>Retaliation</td>\n",
       "    </tr>\n",
       "  </tbody>\n",
       "</table>\n",
       "</div>"
      ],
      "text/plain": [
       "  fiscal_year      charge_num state num_employees_code  \\\n",
       "0      FY2010    3,288,411.72    MD                  B   \n",
       "1      FY2010    3,288,411.72    MD                  B   \n",
       "2      FY2010    3,288,411.72    MD                  B   \n",
       "3      FY2010  3,593,445.5595    AL                  U   \n",
       "4      FY2010  3,593,445.5595    AL                  U   \n",
       "\n",
       "                 num_employees naics_code                        naics_desc  \\\n",
       "0          101 - 200 Employees 611,110.00  Elementary and Secondary Schools   \n",
       "1          101 - 200 Employees 611,110.00  Elementary and Secondary Schools   \n",
       "2          101 - 200 Employees 611,110.00  Elementary and Secondary Schools   \n",
       "3  Unknown Number Of Employees        nan                               NaN   \n",
       "4  Unknown Number Of Employees        nan                               NaN   \n",
       "\n",
       "  type_code              type birth_date sex date_received date_closed  \\\n",
       "0         E  Private Employer 2066-11-13   N    2010-03-03  2010-03-03   \n",
       "1         E  Private Employer 2066-11-13   N    2010-03-03  2010-03-03   \n",
       "2         E  Private Employer 2066-11-13   N    2010-03-03  2010-03-03   \n",
       "3         E  Private Employer 1979-05-02   F    2010-02-03  2010-07-30   \n",
       "4         E  Private Employer 1979-05-02   F    2010-02-03  2010-07-30   \n",
       "\n",
       "  closure_code             closure_action  monetary_benefits statute_code  \\\n",
       "0           M3    No Cause Finding Issued                nan            T   \n",
       "1           M3    No Cause Finding Issued                nan            A   \n",
       "2           M3    No Cause Finding Issued                nan            A   \n",
       "3           N2  NRTS Issued At CP Request                nan            T   \n",
       "4           N2  NRTS Issued At CP Request                nan            T   \n",
       "\n",
       "     statute basis_code        basis issue_code               issue  \\\n",
       "0  Title VII         OR  Retaliation         T2    Terms/Conditions   \n",
       "1       ADEA         OR  Retaliation         T2    Terms/Conditions   \n",
       "2       ADEA         OA          Age         T2    Terms/Conditions   \n",
       "3  Title VII         OR  Retaliation         D2           Discharge   \n",
       "4  Title VII         OR  Retaliation         B3  Benefits-Insurance   \n",
       "\n",
       "  court_filing_date civil_action_num court resolution_date case_type  \\\n",
       "0               NaT              NaN   NaN             NaT       NaN   \n",
       "1               NaT              NaN   NaN             NaT       NaN   \n",
       "2               NaT              NaN   NaN             NaT       NaN   \n",
       "3               NaT              NaN   NaN             NaT       NaN   \n",
       "4               NaT              NaN   NaN             NaT       NaN   \n",
       "\n",
       "   litigation_monetary_benefits grouped_basis  \n",
       "0                           nan   Retaliation  \n",
       "1                           nan   Retaliation  \n",
       "2                           nan           Age  \n",
       "3                           nan   Retaliation  \n",
       "4                           nan   Retaliation  "
      ]
     },
     "execution_count": 29,
     "metadata": {},
     "output_type": "execute_result"
    }
   ],
   "source": [
    "charges.head()"
   ]
  },
  {
   "cell_type": "markdown",
   "metadata": {},
   "source": [
    "## How many alleged violations are we dealing with?"
   ]
  },
  {
   "cell_type": "code",
   "execution_count": null,
   "metadata": {},
   "outputs": [],
   "source": [
    "charges[\"charge_num\"].count()"
   ]
  },
  {
   "cell_type": "markdown",
   "metadata": {},
   "source": [
    "## And how many cases are we dealing with?"
   ]
  },
  {
   "cell_type": "code",
   "execution_count": null,
   "metadata": {},
   "outputs": [],
   "source": [
    "charges[\"charge_num\"].nunique()"
   ]
  },
  {
   "cell_type": "markdown",
   "metadata": {},
   "source": [
    "How many of these cases occurred in each year?"
   ]
  },
  {
   "cell_type": "code",
   "execution_count": null,
   "metadata": {},
   "outputs": [],
   "source": [
    "all_cases_by_year = charges.groupby(\"fiscal_year\")[\"charge_num\"].nunique().reset_index()\n",
    "all_cases_by_year.rename(columns={\"charge_num\": \"all_cases\"}, inplace=True)\n",
    "all_cases_by_year"
   ]
  },
  {
   "cell_type": "markdown",
   "metadata": {},
   "source": [
    "How does this break down by basis?"
   ]
  },
  {
   "cell_type": "code",
   "execution_count": null,
   "metadata": {},
   "outputs": [],
   "source": [
    "all_cases_by_basis = charges.groupby([\"basis\"])[\"charge_num\"].nunique().reset_index()\n",
    "all_cases_by_basis.rename(columns={\"charge_num\": \"all_cases\"}, inplace=True)\n",
    "all_cases_by_basis.sort_values(\"all_cases\", ascending=False).head()"
   ]
  },
  {
   "cell_type": "markdown",
   "metadata": {},
   "source": [
    "How does this break down by grouped basis?"
   ]
  },
  {
   "cell_type": "code",
   "execution_count": null,
   "metadata": {},
   "outputs": [],
   "source": [
    "all_cases_by_grouped_basis = charges.groupby([\"grouped_basis\"])[\"charge_num\"].nunique().reset_index()\n",
    "all_cases_by_grouped_basis.rename(columns={\"charge_num\": \"all_cases\"}, inplace=True)\n",
    "all_cases_by_grouped_basis.sort_values(\"all_cases\", ascending=False).head()"
   ]
  },
  {
   "cell_type": "markdown",
   "metadata": {},
   "source": [
    "## How many closed cases are we dealing with?"
   ]
  },
  {
   "cell_type": "code",
   "execution_count": null,
   "metadata": {},
   "outputs": [],
   "source": [
    "closed_charges = charges[charges[\"closure_action\"].notnull()]\n",
    "closed_cases = charges[charges[\"closure_action\"].notnull()]\n",
    "closed_cases[\"charge_num\"].nunique()"
   ]
  },
  {
   "cell_type": "markdown",
   "metadata": {},
   "source": [
    "And how many of these cases were essentially dismissed outright?"
   ]
  },
  {
   "cell_type": "code",
   "execution_count": null,
   "metadata": {},
   "outputs": [],
   "source": [
    "closed_cases[closed_cases[\"closure_action\"] == \"No Cause Finding Issued\"][\"charge_num\"].nunique()"
   ]
  },
  {
   "cell_type": "code",
   "execution_count": null,
   "metadata": {},
   "outputs": [],
   "source": [
    "closed_cases[closed_cases[\"closure_action\"] == \"No Cause Finding Issued\"][\"charge_num\"].nunique() / closed_cases[\"charge_num\"].nunique()"
   ]
  },
  {
   "cell_type": "markdown",
   "metadata": {},
   "source": [
    "How many of these occurred in each year?"
   ]
  },
  {
   "cell_type": "code",
   "execution_count": null,
   "metadata": {},
   "outputs": [],
   "source": [
    "closed_cases_by_year = closed_cases.groupby(\"fiscal_year\")[\"charge_num\"].nunique().reset_index()\n",
    "closed_cases_by_year.rename(columns={\"charge_num\": \"closed_cases\"}, inplace=True)\n",
    "closed_cases_by_year"
   ]
  },
  {
   "cell_type": "markdown",
   "metadata": {},
   "source": [
    "How does this break down by basis?"
   ]
  },
  {
   "cell_type": "code",
   "execution_count": null,
   "metadata": {},
   "outputs": [],
   "source": [
    "closed_cases_by_basis = closed_cases.groupby([\"basis\"])[\"charge_num\"].nunique().reset_index()\n",
    "closed_cases_by_basis.rename(columns={\"charge_num\": \"closed_cases\"}, inplace=True)\n",
    "closed_cases_by_basis.sort_values(\"closed_cases\", ascending=False).head()"
   ]
  },
  {
   "cell_type": "markdown",
   "metadata": {},
   "source": [
    "How does this break down by grouped basis?"
   ]
  },
  {
   "cell_type": "code",
   "execution_count": null,
   "metadata": {},
   "outputs": [],
   "source": [
    "closed_cases_by_grouped_basis = closed_cases.groupby([\"grouped_basis\"])[\"charge_num\"].nunique().reset_index()\n",
    "closed_cases_by_grouped_basis.rename(columns={\"charge_num\": \"closed_cases\"}, inplace=True)\n",
    "closed_cases_by_grouped_basis.sort_values(\"closed_cases\", ascending=False).head()"
   ]
  },
  {
   "cell_type": "markdown",
   "metadata": {},
   "source": [
    "## In how many cases did the EEOC find merit to the complaint?"
   ]
  },
  {
   "cell_type": "code",
   "execution_count": null,
   "metadata": {},
   "outputs": [],
   "source": [
    "meritorious_outcomes = [\"Case Settled By Legal Unit\", \"Conciliation Failure\", \"Successful Conciliation\"]\n",
    "meritorious_cases = closed_cases[closed_cases[\"closure_action\"].isin(meritorious_outcomes)]\n",
    "meritorious_cases[\"charge_num\"].nunique()"
   ]
  },
  {
   "cell_type": "code",
   "execution_count": null,
   "metadata": {},
   "outputs": [],
   "source": [
    "meritorious_cases[\"charge_num\"].nunique() / closed_cases[\"charge_num\"].nunique()"
   ]
  },
  {
   "cell_type": "markdown",
   "metadata": {},
   "source": [
    "Not every case deemed meritorious by the agencies resulted in a worker receiving some form of relief. In how many such cases did a worker not receive relief?"
   ]
  },
  {
   "cell_type": "code",
   "execution_count": null,
   "metadata": {},
   "outputs": [],
   "source": [
    "meritorious_cases[meritorious_cases[\"closure_action\"] == \"Conciliation Failure\"][\"charge_num\"].nunique() / meritorious_cases[\"charge_num\"].nunique()"
   ]
  },
  {
   "cell_type": "markdown",
   "metadata": {},
   "source": [
    "How many meritorious cases occurred in each year?"
   ]
  },
  {
   "cell_type": "code",
   "execution_count": null,
   "metadata": {},
   "outputs": [],
   "source": [
    "meritorious_cases_by_year = meritorious_cases.groupby(\"fiscal_year\")[\"charge_num\"].nunique().reset_index()\n",
    "meritorious_cases_by_year.rename(columns={\"charge_num\": \"meritorious_cases\"}, inplace=True)\n",
    "meritorious_cases_by_year"
   ]
  },
  {
   "cell_type": "markdown",
   "metadata": {},
   "source": [
    "How does this break down by basis?"
   ]
  },
  {
   "cell_type": "code",
   "execution_count": null,
   "metadata": {},
   "outputs": [],
   "source": [
    "meritorious_cases_by_basis = meritorious_cases.groupby([\"basis\"])[\"charge_num\"].nunique().reset_index()\n",
    "meritorious_cases_by_basis.rename(columns={\"charge_num\": \"meritorious_cases\"}, inplace=True)\n",
    "meritorious_cases_by_basis.sort_values(\"meritorious_cases\", ascending=False).head()"
   ]
  },
  {
   "cell_type": "markdown",
   "metadata": {},
   "source": [
    "How does this break down by grouped basis?"
   ]
  },
  {
   "cell_type": "code",
   "execution_count": null,
   "metadata": {},
   "outputs": [],
   "source": [
    "meritorious_cases_by_grouped_basis = meritorious_cases.groupby([\"grouped_basis\"])[\"charge_num\"].nunique().reset_index()\n",
    "meritorious_cases_by_grouped_basis.rename(columns={\"charge_num\": \"meritorious_cases\"}, inplace=True)\n",
    "meritorious_cases_by_grouped_basis.sort_values(\"meritorious_cases\", ascending=False).head()"
   ]
  },
  {
   "cell_type": "markdown",
   "metadata": {},
   "source": [
    "## And in how many cases did the EEOC grant some form of relief (including non-monetary relief) to the complainant?"
   ]
  },
  {
   "cell_type": "code",
   "execution_count": null,
   "metadata": {},
   "outputs": [],
   "source": [
    "relief_outcomes = [\"Case Settled By Legal Unit\", \"Settlement With Benefits\", \"Successful Conciliation\", \"Withdrawal With Benefits\"]\n",
    "relief_cases = closed_cases[closed_cases[\"closure_action\"].isin(relief_outcomes)]\n",
    "relief_cases[\"charge_num\"].nunique()"
   ]
  },
  {
   "cell_type": "code",
   "execution_count": null,
   "metadata": {},
   "outputs": [],
   "source": [
    "relief_cases[\"charge_num\"].nunique() / closed_cases[\"charge_num\"].nunique()"
   ]
  },
  {
   "cell_type": "markdown",
   "metadata": {},
   "source": [
    "How many of these cases occurred in each year?"
   ]
  },
  {
   "cell_type": "code",
   "execution_count": null,
   "metadata": {},
   "outputs": [],
   "source": [
    "relief_cases_by_year = relief_cases.groupby(\"fiscal_year\")[\"charge_num\"].nunique().reset_index()\n",
    "relief_cases_by_year.rename(columns={\"charge_num\": \"relief_cases\"}, inplace=True)\n",
    "relief_cases_by_year"
   ]
  },
  {
   "cell_type": "markdown",
   "metadata": {},
   "source": [
    "How does this break down by basis?"
   ]
  },
  {
   "cell_type": "code",
   "execution_count": null,
   "metadata": {},
   "outputs": [],
   "source": [
    "relief_cases_by_basis = relief_cases.groupby(\"basis\")[\"charge_num\"].nunique().reset_index()\n",
    "relief_cases_by_basis.rename(columns={\"charge_num\": \"relief_cases\"}, inplace=True)\n",
    "relief_cases_by_basis.sort_values(\"relief_cases\", ascending=False).head()"
   ]
  },
  {
   "cell_type": "markdown",
   "metadata": {},
   "source": [
    "How does this break down by grouped basis?"
   ]
  },
  {
   "cell_type": "code",
   "execution_count": null,
   "metadata": {},
   "outputs": [],
   "source": [
    "relief_cases_by_grouped_basis = relief_cases.groupby(\"grouped_basis\")[\"charge_num\"].nunique().reset_index()\n",
    "relief_cases_by_grouped_basis.rename(columns={\"charge_num\": \"relief_cases\"}, inplace=True)\n",
    "relief_cases_by_grouped_basis.sort_values(\"relief_cases\", ascending=False).head()"
   ]
  },
  {
   "cell_type": "markdown",
   "metadata": {},
   "source": [
    "## And in how many cases did a worker see any monetary benefits?"
   ]
  },
  {
   "cell_type": "code",
   "execution_count": null,
   "metadata": {},
   "outputs": [],
   "source": [
    "monetary_benefits_cases = closed_cases[closed_charges[\"monetary_benefits\"] > 0]\n",
    "monetary_benefits_cases[\"charge_num\"].nunique()"
   ]
  },
  {
   "cell_type": "code",
   "execution_count": null,
   "metadata": {},
   "outputs": [],
   "source": [
    "monetary_benefits_cases[\"charge_num\"].nunique() / closed_cases[\"charge_num\"].nunique()"
   ]
  },
  {
   "cell_type": "markdown",
   "metadata": {},
   "source": [
    "How much money did they get?"
   ]
  },
  {
   "cell_type": "code",
   "execution_count": null,
   "metadata": {},
   "outputs": [],
   "source": [
    "monetary_benefits_cases.groupby([\"charge_num\"])[\"monetary_benefits\"].mean().sum()"
   ]
  },
  {
   "cell_type": "markdown",
   "metadata": {},
   "source": [
    "How many of these cases occurred in each year?"
   ]
  },
  {
   "cell_type": "code",
   "execution_count": null,
   "metadata": {},
   "outputs": [],
   "source": [
    "monetary_benefits_cases_by_year = monetary_benefits_cases.groupby(\"fiscal_year\")[\"charge_num\"].nunique().reset_index()\n",
    "monetary_benefits_cases_by_year.rename(columns={\"charge_num\": \"monetary_benefits_cases\"}, inplace=True)\n",
    "monetary_benefits_cases_by_year"
   ]
  },
  {
   "cell_type": "markdown",
   "metadata": {},
   "source": [
    "How does this break down by basis?"
   ]
  },
  {
   "cell_type": "code",
   "execution_count": null,
   "metadata": {},
   "outputs": [],
   "source": [
    "monetary_benefits_cases_by_basis = monetary_benefits_cases.groupby(\"basis\")[\"charge_num\"].nunique().reset_index()\n",
    "monetary_benefits_cases_by_basis.rename(columns={\"charge_num\": \"monetary_benefits_cases\"}, inplace=True)\n",
    "monetary_benefits_cases_by_basis.sort_values(\"monetary_benefits_cases\", ascending=False).head()"
   ]
  },
  {
   "cell_type": "markdown",
   "metadata": {},
   "source": [
    "How does this break down by grouped basis?"
   ]
  },
  {
   "cell_type": "code",
   "execution_count": null,
   "metadata": {},
   "outputs": [],
   "source": [
    "monetary_benefits_cases_by_grouped_basis = monetary_benefits_cases.groupby(\"grouped_basis\")[\"charge_num\"].nunique().reset_index()\n",
    "monetary_benefits_cases_by_grouped_basis.rename(columns={\"charge_num\": \"monetary_benefits_cases\"}, inplace=True)\n",
    "monetary_benefits_cases_by_grouped_basis.sort_values(\"monetary_benefits_cases\", ascending=False).head()"
   ]
  },
  {
   "cell_type": "markdown",
   "metadata": {},
   "source": [
    "## How many cases alleged some form of racial discrimination?"
   ]
  },
  {
   "cell_type": "code",
   "execution_count": null,
   "metadata": {},
   "outputs": [],
   "source": [
    "race_discrimination = charges[charges[\"grouped_basis\"] == \"Race\"]\n",
    "race_discrimination[\"charge_num\"].nunique()"
   ]
  },
  {
   "cell_type": "code",
   "execution_count": null,
   "metadata": {},
   "outputs": [],
   "source": [
    "race_discrimination[\"charge_num\"].nunique() / charges[\"charge_num\"].nunique()"
   ]
  },
  {
   "cell_type": "markdown",
   "metadata": {},
   "source": [
    "## How many cases alleged racial discrimination against African-Americans?"
   ]
  },
  {
   "cell_type": "code",
   "execution_count": null,
   "metadata": {},
   "outputs": [],
   "source": [
    "aa_discrimination = charges[charges[\"basis\"] == \"Race-Black/African American\"]\n",
    "aa_discrimination[\"charge_num\"].nunique()"
   ]
  },
  {
   "cell_type": "code",
   "execution_count": null,
   "metadata": {},
   "outputs": [],
   "source": [
    "aa_discrimination[\"charge_num\"].nunique() / charges[\"charge_num\"].nunique()"
   ]
  },
  {
   "cell_type": "markdown",
   "metadata": {},
   "source": [
    "## Combine the data by year."
   ]
  },
  {
   "cell_type": "code",
   "execution_count": null,
   "metadata": {},
   "outputs": [],
   "source": [
    "cases_by_year_dfs = [all_cases_by_year, closed_cases_by_year, meritorious_cases_by_year, relief_cases_by_year, monetary_benefits_cases_by_year]\n",
    "cases_by_year = reduce(lambda left, right: pd.merge(left, right, on=\"fiscal_year\"), cases_by_year_dfs)\n",
    "cases_by_year"
   ]
  },
  {
   "cell_type": "markdown",
   "metadata": {},
   "source": [
    "Calculate the proportion of all cases that fall into each category each fiscal year."
   ]
  },
  {
   "cell_type": "code",
   "execution_count": null,
   "metadata": {},
   "outputs": [],
   "source": [
    "cases_by_year[\"pct_all_cases_closed\"] = cases_by_year[\"closed_cases\"] / cases_by_year[\"all_cases\"]\n",
    "cases_by_year[\"pct_closed_cases_meritorious\"] = cases_by_year[\"meritorious_cases\"] / cases_by_year[\"closed_cases\"]\n",
    "cases_by_year[\"pct_closed_cases_relief\"] = cases_by_year[\"relief_cases\"] / cases_by_year[\"closed_cases\"]\n",
    "cases_by_year[\"pct_closed_cases_monetary_benefits\"] = cases_by_year[\"monetary_benefits_cases\"] / cases_by_year[\"closed_cases\"]\n",
    "cases_by_year = cases_by_year[[\"fiscal_year\", \"all_cases\", \"closed_cases\", \"pct_all_cases_closed\", \"meritorious_cases\", \"pct_closed_cases_meritorious\", \"relief_cases\", \"pct_closed_cases_relief\", \"monetary_benefits_cases\", \"pct_closed_cases_monetary_benefits\"]]\n",
    "cases_by_year"
   ]
  },
  {
   "cell_type": "markdown",
   "metadata": {},
   "source": [
    "## Combine the data by basis."
   ]
  },
  {
   "cell_type": "code",
   "execution_count": null,
   "metadata": {},
   "outputs": [],
   "source": [
    "cases_by_basis_dfs = [all_cases_by_basis, closed_cases_by_basis, meritorious_cases_by_basis, relief_cases_by_basis, monetary_benefits_cases_by_basis]\n",
    "cases_by_basis = reduce(lambda left, right: pd.merge(left, right, on=\"basis\"), cases_by_basis_dfs)\n",
    "cases_by_basis.sort_values(\"all_cases\", ascending=False).head()"
   ]
  },
  {
   "cell_type": "markdown",
   "metadata": {},
   "source": [
    "Calculate the proportion of all cases that fall into each category by basis."
   ]
  },
  {
   "cell_type": "code",
   "execution_count": null,
   "metadata": {},
   "outputs": [],
   "source": [
    "cases_by_basis[\"pct_all_cases_closed\"] = cases_by_basis[\"closed_cases\"] / cases_by_basis[\"all_cases\"]\n",
    "cases_by_basis[\"pct_closed_cases_meritorious\"] = cases_by_basis[\"meritorious_cases\"] / cases_by_basis[\"closed_cases\"]\n",
    "cases_by_basis[\"pct_closed_cases_relief\"] = cases_by_basis[\"relief_cases\"] / cases_by_basis[\"closed_cases\"]\n",
    "cases_by_basis[\"pct_closed_cases_monetary_benefits\"] = cases_by_basis[\"monetary_benefits_cases\"] / cases_by_basis[\"closed_cases\"]\n",
    "cases_by_basis = cases_by_basis[[\"basis\", \"all_cases\", \"closed_cases\", \"pct_all_cases_closed\", \"meritorious_cases\", \"pct_closed_cases_meritorious\", \"relief_cases\", \"pct_closed_cases_relief\", \"monetary_benefits_cases\", \"pct_closed_cases_monetary_benefits\"]]\n",
    "cases_by_basis.sort_values(\"all_cases\", ascending=False).head()"
   ]
  },
  {
   "cell_type": "markdown",
   "metadata": {},
   "source": [
    "## Combine the data by grouped basis."
   ]
  },
  {
   "cell_type": "code",
   "execution_count": null,
   "metadata": {},
   "outputs": [],
   "source": [
    "cases_by_grouped_basis_dfs = [all_cases_by_grouped_basis, closed_cases_by_grouped_basis, meritorious_cases_by_grouped_basis, relief_cases_by_grouped_basis, monetary_benefits_cases_by_grouped_basis]\n",
    "cases_by_grouped_basis = reduce(lambda left, right: pd.merge(left, right, on=\"grouped_basis\"), cases_by_grouped_basis_dfs)\n",
    "cases_by_grouped_basis.sort_values(\"all_cases\", ascending=False).head()"
   ]
  },
  {
   "cell_type": "markdown",
   "metadata": {},
   "source": [
    "Calculate the proportion of all cases that fall into each category by grouped basis."
   ]
  },
  {
   "cell_type": "code",
   "execution_count": null,
   "metadata": {},
   "outputs": [],
   "source": [
    "cases_by_grouped_basis[\"pct_all_cases_closed\"] = cases_by_grouped_basis[\"closed_cases\"] / cases_by_grouped_basis[\"all_cases\"]\n",
    "cases_by_grouped_basis[\"pct_closed_cases_meritorious\"] = cases_by_grouped_basis[\"meritorious_cases\"] / cases_by_grouped_basis[\"closed_cases\"]\n",
    "cases_by_grouped_basis[\"pct_closed_cases_relief\"] = cases_by_grouped_basis[\"relief_cases\"] / cases_by_grouped_basis[\"closed_cases\"]\n",
    "cases_by_grouped_basis[\"pct_closed_cases_monetary_benefits\"] = cases_by_grouped_basis[\"monetary_benefits_cases\"] / cases_by_grouped_basis[\"closed_cases\"]\n",
    "cases_by_grouped_basis = cases_by_grouped_basis[[\"grouped_basis\", \"all_cases\", \"closed_cases\", \"pct_all_cases_closed\", \"meritorious_cases\", \"pct_closed_cases_meritorious\", \"relief_cases\", \"pct_closed_cases_relief\", \"monetary_benefits_cases\", \"pct_closed_cases_monetary_benefits\"]]\n",
    "cases_by_grouped_basis.sort_values(\"all_cases\", ascending=False).head()"
   ]
  },
  {
   "cell_type": "code",
   "execution_count": null,
   "metadata": {},
   "outputs": [],
   "source": [
    "charges.groupby(\"charge_num\")[\"date_received\"].nunique().reset_index().sort_values(\"date_received\", ascending=False).head(1)"
   ]
  },
  {
   "cell_type": "code",
   "execution_count": null,
   "metadata": {},
   "outputs": [],
   "source": [
    "charges[charges[\"charge_num\"] == \"5688973\"]"
   ]
  },
  {
   "cell_type": "markdown",
   "metadata": {},
   "source": [
    "## What sorts of discriminatory bases were most likely to result in an outcome where the EEOC found merit in the complaint, the complainant got some form of relief and in which the complainant saw any monetary benefits and how does that compare with the overall number of those violations (minimum 100 closed cases)?"
   ]
  },
  {
   "cell_type": "code",
   "execution_count": null,
   "metadata": {},
   "outputs": [],
   "source": [
    "cases_by_basis[cases_by_basis[\"closed_cases\"] >= 100].sort_values(\"pct_closed_cases_meritorious\", ascending=False).head()"
   ]
  },
  {
   "cell_type": "code",
   "execution_count": null,
   "metadata": {},
   "outputs": [],
   "source": [
    "cases_by_basis[cases_by_basis[\"closed_cases\"] >= 100].sort_values(\"pct_closed_cases_relief\", ascending=False).head()"
   ]
  },
  {
   "cell_type": "code",
   "execution_count": null,
   "metadata": {},
   "outputs": [],
   "source": [
    "cases_by_basis[cases_by_basis[\"closed_cases\"] >= 100].sort_values(\"pct_closed_cases_monetary_benefits\", ascending=False).head()"
   ]
  },
  {
   "cell_type": "markdown",
   "metadata": {},
   "source": [
    "## What sorts of discriminatory grouped bases were most likely to result in an outcome where the EEOC found merit in the complaint, the complainant got some form of relief and in which the complainant saw any monetary benefits and how does that compare with the overall number of those violations (minimum 100 closed cases)?"
   ]
  },
  {
   "cell_type": "code",
   "execution_count": null,
   "metadata": {},
   "outputs": [],
   "source": [
    "cases_by_grouped_basis[cases_by_grouped_basis[\"closed_cases\"] >= 100].sort_values(\"pct_closed_cases_meritorious\", ascending=False).head()"
   ]
  },
  {
   "cell_type": "code",
   "execution_count": null,
   "metadata": {},
   "outputs": [],
   "source": [
    "cases_by_grouped_basis[cases_by_grouped_basis[\"closed_cases\"] >= 100].sort_values(\"pct_closed_cases_relief\", ascending=False).head()"
   ]
  },
  {
   "cell_type": "code",
   "execution_count": null,
   "metadata": {},
   "outputs": [],
   "source": [
    "cases_by_grouped_basis[cases_by_grouped_basis[\"closed_cases\"] >= 100].sort_values(\"pct_closed_cases_monetary_benefits\", ascending=False).head()"
   ]
  },
  {
   "cell_type": "markdown",
   "metadata": {},
   "source": [
    "## How many cases alleged some form of racial discrimination?"
   ]
  },
  {
   "cell_type": "code",
   "execution_count": null,
   "metadata": {},
   "outputs": [],
   "source": [
    "race_discrimination = charges[charges[\"grouped_basis\"] == \"Race\"]\n",
    "race_discrimination[\"charge_num\"].nunique()"
   ]
  },
  {
   "cell_type": "code",
   "execution_count": null,
   "metadata": {},
   "outputs": [],
   "source": [
    "race_discrimination[\"charge_num\"].nunique() / charges[\"charge_num\"].nunique()"
   ]
  },
  {
   "cell_type": "markdown",
   "metadata": {},
   "source": [
    "## What proportion of closed cases alleging some form of racial discrimination resulted in the complainant getting some form of relief?"
   ]
  },
  {
   "cell_type": "code",
   "execution_count": null,
   "metadata": {},
   "outputs": [],
   "source": [
    "race_discrimination_relief_cases = closed_cases[(closed_cases[\"grouped_basis\"] == \"Race\") & (closed_cases[\"closure_action\"].isin(relief_outcomes))]\n",
    "race_discrimination_relief_cases[\"charge_num\"].nunique()"
   ]
  },
  {
   "cell_type": "code",
   "execution_count": null,
   "metadata": {},
   "outputs": [],
   "source": [
    "race_discrimination_relief_cases[\"charge_num\"].nunique() / closed_cases[closed_cases[\"grouped_basis\"] == \"Race\"][\"charge_num\"].nunique()"
   ]
  },
  {
   "cell_type": "markdown",
   "metadata": {},
   "source": [
    "## What proportion of closed cases not alleging some form of racial discrimination resulted in the complainant getting some form of relief?"
   ]
  },
  {
   "cell_type": "markdown",
   "metadata": {},
   "source": [
    "Create a list of charge numbers attached to cases in which some form of racial discrimination was alleged."
   ]
  },
  {
   "cell_type": "code",
   "execution_count": null,
   "metadata": {},
   "outputs": [],
   "source": [
    "race_discrimination_charge_nums = race_discrimination[\"charge_num\"].drop_duplicates().tolist()"
   ]
  },
  {
   "cell_type": "markdown",
   "metadata": {},
   "source": [
    "Calculate the number of relief cases where racial discrimination was not alleged."
   ]
  },
  {
   "cell_type": "code",
   "execution_count": null,
   "metadata": {},
   "outputs": [],
   "source": [
    "non_race_discrimination_relief_cases = closed_cases[(~closed_cases[\"charge_num\"].isin(race_discrimination_charge_nums)) & (closed_cases[\"closure_action\"].isin(relief_outcomes))]\n",
    "non_race_discrimination_relief_cases[\"charge_num\"].nunique()"
   ]
  },
  {
   "cell_type": "markdown",
   "metadata": {},
   "source": [
    "Calculate the number of all closed cases where racial discrimination was not alleged."
   ]
  },
  {
   "cell_type": "code",
   "execution_count": null,
   "metadata": {},
   "outputs": [],
   "source": [
    "non_race_discrimination_closed_cases = closed_cases[~closed_cases[\"charge_num\"].isin(race_discrimination_charge_nums)]\n",
    "non_race_discrimination_closed_cases[\"charge_num\"].nunique()"
   ]
  },
  {
   "cell_type": "code",
   "execution_count": null,
   "metadata": {},
   "outputs": [],
   "source": [
    "non_race_discrimination_relief_cases[\"charge_num\"].nunique() / non_race_discrimination_closed_cases[\"charge_num\"].nunique()"
   ]
  },
  {
   "cell_type": "markdown",
   "metadata": {},
   "source": [
    "## How many cases alleged racial discrimination against African-Americans?"
   ]
  },
  {
   "cell_type": "code",
   "execution_count": null,
   "metadata": {},
   "outputs": [],
   "source": [
    "aa_discrimination = charges[charges[\"basis\"] == \"Race-Black/African American\"]\n",
    "aa_discrimination[\"charge_num\"].nunique()"
   ]
  },
  {
   "cell_type": "code",
   "execution_count": null,
   "metadata": {},
   "outputs": [],
   "source": [
    "aa_discrimination[\"charge_num\"].nunique() / charges[\"charge_num\"].nunique()"
   ]
  },
  {
   "cell_type": "markdown",
   "metadata": {},
   "source": [
    "## What does this data look like when grouped by basis and closure action?"
   ]
  },
  {
   "cell_type": "code",
   "execution_count": null,
   "metadata": {},
   "outputs": [],
   "source": [
    "cases_by_basis_and_closure_action = closed_cases.groupby([\"basis\", \"closure_action\"])[\"charge_num\"].nunique().reset_index()\n",
    "cases_by_basis_and_closure_action.rename(columns={\"charge_num\": \"cases\"}, inplace=True)\n",
    "cases_by_basis_and_closure_action.head()"
   ]
  },
  {
   "cell_type": "code",
   "execution_count": null,
   "metadata": {},
   "outputs": [],
   "source": [
    "cases_by_basis_and_closure_action = pd.pivot_table(cases_by_basis_and_closure_action, index=[\"basis\"], columns=[\"closure_action\"])\n",
    "cases_by_basis_and_closure_action.fillna(0, inplace=True)\n",
    "cases_by_basis_and_closure_action.head()"
   ]
  },
  {
   "cell_type": "code",
   "execution_count": null,
   "metadata": {},
   "outputs": [],
   "source": [
    "pct_case_by_basis_and_closure_action = cases_by_basis_and_closure_action.apply(lambda x: x/x.sum(), axis=1)\n",
    "pct_case_by_basis_and_closure_action.rename(lambda x: x + \"_pct\", axis=1, inplace=True)"
   ]
  },
  {
   "cell_type": "code",
   "execution_count": null,
   "metadata": {},
   "outputs": [],
   "source": [
    "pct_case_by_basis_and_closure_action.columns = [\"_\".join(column).replace(\", \",\"_\").lower().strip(\"_\") for column in cases_by_basis_and_closure_action.columns.values]\n",
    "pct_case_by_basis_and_closure_action.reset_index(inplace=True)"
   ]
  },
  {
   "cell_type": "code",
   "execution_count": null,
   "metadata": {},
   "outputs": [],
   "source": [
    "cases_by_basis_and_closure_action.columns = [\"_\".join(column).replace(\", \",\"_\").lower().strip(\"_\") for column in cases_by_basis_and_closure_action.columns.values]\n",
    "cases_by_basis_and_closure_action.reset_index(inplace=True)"
   ]
  },
  {
   "cell_type": "code",
   "execution_count": null,
   "metadata": {},
   "outputs": [],
   "source": [
    "cases_by_basis_and_closure_action = cases_by_basis_and_closure_action.merge(pct_case_by_basis_and_closure_action, on=\"basis\", suffixes=[\"\", \"_pct\"])\n",
    "cases_by_basis_and_closure_action.head()"
   ]
  },
  {
   "cell_type": "markdown",
   "metadata": {},
   "source": [
    "Export the tables."
   ]
  },
  {
   "cell_type": "code",
   "execution_count": null,
   "metadata": {},
   "outputs": [],
   "source": [
    "cases_by_year.to_csv(\"data/cases_by_year.csv\", index=False)\n",
    "cases_by_basis.to_csv(\"data/cases_by_basis.csv\", index=False)\n",
    "cases_by_grouped_basis.to_csv(\"data/cases_by_grouped_basis.csv\", index=False)\n",
    "cases_by_basis_and_closure_action.to_csv(\"data/cases_by_basis_and_closure_action.csv\", index=False)"
   ]
  }
 ],
 "metadata": {
  "kernelspec": {
   "display_name": "Python 3",
   "language": "python",
   "name": "python3"
  },
  "language_info": {
   "codemirror_mode": {
    "name": "ipython",
    "version": 3
   },
   "file_extension": ".py",
   "mimetype": "text/x-python",
   "name": "python",
   "nbconvert_exporter": "python",
   "pygments_lexer": "ipython3",
   "version": "3.7.3"
  }
 },
 "nbformat": 4,
 "nbformat_minor": 2
}
